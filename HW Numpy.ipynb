{
 "cells": [
  {
   "cell_type": "code",
   "execution_count": 1,
   "id": "5cdff3da",
   "metadata": {},
   "outputs": [],
   "source": [
    "import numpy as np\n",
    "data = np.random.normal(loc=-1, scale=1.5, size=(1000, 800))"
   ]
  },
  {
   "cell_type": "code",
   "execution_count": 2,
   "id": "378a0922",
   "metadata": {},
   "outputs": [
    {
     "name": "stdout",
     "output_type": "stream",
     "text": [
      "Original data shape: (1000, 800)\n",
      "Number of NANs: 80000\n"
     ]
    }
   ],
   "source": [
    "idx = np.random.choice(data.size, size = 80000, replace = False)\n",
    "for i in idx:\n",
    "    data[i // 800] [i % 800] = np.nan\n",
    "print(\"Original data shape:\", data.shape)\n",
    "print(\"Number of NANs:\", np.isnan(data).sum())"
   ]
  },
  {
   "cell_type": "code",
   "execution_count": 3,
   "id": "6a435511",
   "metadata": {},
   "outputs": [],
   "source": [
    "ave = np.nanmean(data)\n",
    "for i in idx:\n",
    "    data[i // 800] [i % 800] = ave"
   ]
  },
  {
   "cell_type": "code",
   "execution_count": 4,
   "id": "d4de4f58",
   "metadata": {},
   "outputs": [],
   "source": [
    "ave = np.nanmean(data)\n",
    "std = np.std(data)\n",
    "data_normalized = np.zeros(shape=(1000, 800))\n",
    "for i in range(1000):\n",
    "    for j in range(800):\n",
    "        data_normalized[i][j] = (data[i][j] - ave) / std"
   ]
  },
  {
   "cell_type": "code",
   "execution_count": 5,
   "id": "2e982359",
   "metadata": {},
   "outputs": [
    {
     "name": "stdout",
     "output_type": "stream",
     "text": [
      "Mean after inputing NaNs:  -1.0009853601092256\n",
      "Std after inputing NaNs:  1.4235151513561326\n",
      "Mean after Normalize:  -7.994938044930677e-17\n",
      "Std after Normalize:  1.0000000000000002\n"
     ]
    }
   ],
   "source": [
    "print(\"Mean after inputing NaNs: \", np.mean(data))\n",
    "print(\"Std after inputing NaNs: \", np.std(data))\n",
    "print(\"Mean after Normalize: \", np.mean(data_normalized))\n",
    "print(\"Std after Normalize: \", np.std(data_normalized))"
   ]
  },
  {
   "cell_type": "code",
   "execution_count": 6,
   "id": "a3590afe",
   "metadata": {},
   "outputs": [
    {
     "name": "stdout",
     "output_type": "stream",
     "text": [
      "Number of elements greater than mean:  360270\n",
      "First 10 selected elements:  [2.05693444 1.04259506 1.24596423 1.50538363 1.61713291 1.33732762\n",
      " 1.79467897 0.34112676 0.12095725 0.83518633]\n"
     ]
    }
   ],
   "source": [
    "mask = data_normalized > np.mean(data_normalized)\n",
    "filtered_data = data_normalized[mask]\n",
    "print(\"Number of elements greater than mean: \", len(filtered_data))\n",
    "print(\"First 10 selected elements: \", filtered_data[:10])"
   ]
  },
  {
   "cell_type": "code",
   "execution_count": 7,
   "id": "814dd367",
   "metadata": {},
   "outputs": [
    {
     "name": "stdout",
     "output_type": "stream",
     "text": [
      "First 10 selected elements:  [4.11386888 2.08519012 2.49192847 3.01076726 3.23426581 2.67465524\n",
      " 3.58935794 0.         0.         1.67037265]\n",
      "New shape of filtered_data:  (200, 1600)\n"
     ]
    }
   ],
   "source": [
    "filtered_data *= 2\n",
    "filtered_data[filtered_data < 1] = 0\n",
    "filtered_data = filtered_data[:320000]\n",
    "filtered_data = filtered_data.reshape(200, 1600)\n",
    "print(\"First 10 selected elements: \", filtered_data[0][:10])\n",
    "print(\"New shape of filtered_data: \", filtered_data.shape)"
   ]
  }
 ],
 "metadata": {
  "kernelspec": {
   "display_name": "Python 3",
   "language": "python",
   "name": "python3"
  },
  "language_info": {
   "codemirror_mode": {
    "name": "ipython",
    "version": 3
   },
   "file_extension": ".py",
   "mimetype": "text/x-python",
   "name": "python",
   "nbconvert_exporter": "python",
   "pygments_lexer": "ipython3",
   "version": "3.8.8"
  }
 },
 "nbformat": 4,
 "nbformat_minor": 5
}
